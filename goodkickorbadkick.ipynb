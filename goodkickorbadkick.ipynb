{
 "cells": [
  {
   "cell_type": "code",
   "execution_count": 1,
   "metadata": {
    "_cell_guid": "b1076dfc-b9ad-4769-8c92-a6c4dae69d19",
    "_uuid": "8f2839f25d086af736a60e9eeb907d3b93b6e0e5"
   },
   "outputs": [
    {
     "name": "stdout",
     "output_type": "stream",
     "text": [
      "Collecting contractions\r\n",
      "  Downloading contractions-0.0.24-py2.py3-none-any.whl (3.2 kB)\r\n",
      "Collecting textsearch\r\n",
      "  Downloading textsearch-0.0.17-py2.py3-none-any.whl (7.5 kB)\r\n",
      "Requirement already satisfied: Unidecode in /opt/conda/lib/python3.6/site-packages (from textsearch->contractions) (1.1.1)\r\n",
      "Requirement already satisfied: pyahocorasick in /opt/conda/lib/python3.6/site-packages (from textsearch->contractions) (1.4.0)\r\n",
      "Installing collected packages: textsearch, contractions\r\n",
      "Successfully installed contractions-0.0.24 textsearch-0.0.17\r\n"
     ]
    },
    {
     "name": "stderr",
     "output_type": "stream",
     "text": [
      "Using TensorFlow backend.\n"
     ]
    }
   ],
   "source": [
    "!pip install contractions\n",
    "\n",
    "import pandas as pd\n",
    "from datetime import datetime\n",
    "import string\n",
    "from nltk.tokenize import word_tokenize\n",
    "from nltk.corpus import stopwords\n",
    "from tqdm import tqdm\n",
    "import gensim\n",
    "import contractions\n",
    "from keras.preprocessing.text import Tokenizer\n",
    "from keras.preprocessing.sequence import pad_sequences\n",
    "from sklearn.preprocessing import MinMaxScaler\n",
    "from sklearn.model_selection import train_test_split\n",
    "import numpy as np\n",
    "from keras.layers import Input, Embedding, LSTM, GlobalMaxPool1D, Dense, Dropout, Concatenate\n",
    "from keras.models import Model\n",
    "from keras.callbacks import EarlyStopping\n",
    "from sklearn import metrics\n",
    "import matplotlib.pyplot as plt\n",
    "%matplotlib inline"
   ]
  },
  {
   "cell_type": "code",
   "execution_count": 2,
   "metadata": {
    "_cell_guid": "79c7e3d0-c299-4dcb-8224-4455121ee9b0",
    "_uuid": "d629ff2d2480ee46fbb7e2d37f6b5fab8052498a",
    "collapsed": true
   },
   "outputs": [],
   "source": [
    "#LOAD DATA\n",
    "datapath = '../input/kickstarter-projects/ks-projects-201801.csv'\n",
    "\n",
    "ks = pd.read_csv(datapath)\n",
    "\n",
    "list(ks.columns)\n",
    "\n",
    "#PREPARE DAYS COLUMN\n",
    "def getDays(launch_date, deadline):\n",
    "    time1 = datetime.strptime(launch_date, '%Y-%m-%d %H:%M:%S')\n",
    "    date1 = time1.date()\n",
    "    \n",
    "    time2 = datetime.strptime(deadline, '%Y-%m-%d')\n",
    "    date2 = time2.date()\n",
    "    \n",
    "    delta = date2 - date1\n",
    "    days = delta.days\n",
    "    return days\n",
    "\n",
    "ks['days'] = ks.apply(lambda x: getDays(x['launched'], x['deadline']), axis=1)\n",
    "    \n",
    "#CONVERT OTHER COUNTRIES\n",
    "def cvtctry(country):\n",
    "    if country not in ('US', 'GB', 'CA'):\n",
    "        country = 'OTHER'\n",
    "        return country\n",
    "    else:\n",
    "        country = country\n",
    "        return country       \n",
    "    \n",
    "ks['country'] = ks['country'].apply(lambda x: cvtctry(x))\n",
    "\n",
    "ks = pd.get_dummies(ks, columns=['main_category'])\n",
    "ks = pd.get_dummies(ks, columns=['country'])\n",
    "\n",
    "#REMOVE UNDEFINED AND LIVE CASES\n",
    "ks.drop(ks[ks['state'] == 'undefined'].index, inplace=True)\n",
    "ks.drop(ks[ks['state'] == 'live'].index, inplace=True)\n",
    "\n",
    "def sttlb(state):\n",
    "    if state == 'successful':\n",
    "        return 1\n",
    "    else:\n",
    "        return 0\n",
    "\n",
    "ks['label'] = ks['state'].apply(lambda x: sttlb(x))\n",
    "\n",
    "#PROPROCESS TEXT\n",
    "ks['name'] = ks['name'].astype(str)\n",
    "ks['category'] = ks['category'].astype(str)\n",
    "ks['text'] = ks[['name','category']].agg(' '.join, axis=1)"
   ]
  },
  {
   "cell_type": "markdown",
   "metadata": {},
   "source": [
    "**I will omit the process of how to make an embedding file with Word2Vec, you can visit [here](https://github.com/xga0/GoodKickOrBadKick) for detailed steps.**"
   ]
  },
  {
   "cell_type": "code",
   "execution_count": 3,
   "metadata": {},
   "outputs": [
    {
     "name": "stderr",
     "output_type": "stream",
     "text": [
      "/opt/conda/lib/python3.6/site-packages/ipykernel_launcher.py:50: SettingWithCopyWarning: \n",
      "A value is trying to be set on a copy of a slice from a DataFrame.\n",
      "Try using .loc[row_indexer,col_indexer] = value instead\n",
      "\n",
      "See the caveats in the documentation: http://pandas.pydata.org/pandas-docs/stable/user_guide/indexing.html#returning-a-view-versus-a-copy\n",
      "/opt/conda/lib/python3.6/site-packages/pandas/core/indexing.py:494: SettingWithCopyWarning: \n",
      "A value is trying to be set on a copy of a slice from a DataFrame.\n",
      "Try using .loc[row_indexer,col_indexer] = value instead\n",
      "\n",
      "See the caveats in the documentation: http://pandas.pydata.org/pandas-docs/stable/user_guide/indexing.html#returning-a-view-versus-a-copy\n",
      "  self.obj[item] = s\n",
      "/opt/conda/lib/python3.6/site-packages/ipykernel_launcher.py:51: SettingWithCopyWarning: \n",
      "A value is trying to be set on a copy of a slice from a DataFrame.\n",
      "Try using .loc[row_indexer,col_indexer] = value instead\n",
      "\n",
      "See the caveats in the documentation: http://pandas.pydata.org/pandas-docs/stable/user_guide/indexing.html#returning-a-view-versus-a-copy\n",
      "/opt/conda/lib/python3.6/site-packages/pandas/core/indexing.py:494: SettingWithCopyWarning: \n",
      "A value is trying to be set on a copy of a slice from a DataFrame.\n",
      "Try using .loc[row_indexer,col_indexer] = value instead\n",
      "\n",
      "See the caveats in the documentation: http://pandas.pydata.org/pandas-docs/stable/user_guide/indexing.html#returning-a-view-versus-a-copy\n",
      "  self.obj[item] = s\n"
     ]
    }
   ],
   "source": [
    "#PREPARE TWO INPUTS\n",
    "Xt = pd.DataFrame(columns=['text'])\n",
    "Xt['text'] = ks['text']\n",
    "\n",
    "Xt['text'] = Xt['text'].apply(lambda x: contractions.fix(x))\n",
    "Xt['text'] = Xt['text'].apply(lambda x: x.lower())\n",
    "Xt['text'] = Xt['text'].apply(lambda x: x.translate(str.maketrans('', '', string.punctuation)))\n",
    "Xt['text'] = Xt['text'].apply(lambda x: x.replace('  ', ' ')) #FIX DOUBLE SPACES GENERATED BY & SIGN\n",
    "\n",
    "stpw = set(stopwords.words('english'))\n",
    "\n",
    "def rmvstpw(input_str):\n",
    "    str_words = input_str.split()\n",
    "    keep_words = [word for word in str_words if word not in stpw]\n",
    "    output_str = ' '.join(keep_words)\n",
    "    return output_str\n",
    "\n",
    "Xt['text'] = Xt['text'].apply(lambda x: rmvstpw(x))\n",
    "\n",
    "tokenizer = Tokenizer()\n",
    "tokenizer.fit_on_texts(Xt['text'].values)\n",
    "Xt = tokenizer.texts_to_sequences(Xt['text'].values)\n",
    "Xt = pad_sequences(Xt)\n",
    "\n",
    "list(ks.columns)\n",
    "\n",
    "Xn = ks[['usd_goal_real',\n",
    " 'days',\n",
    " 'main_category_Art',\n",
    " 'main_category_Comics',\n",
    " 'main_category_Crafts',\n",
    " 'main_category_Dance',\n",
    " 'main_category_Design',\n",
    " 'main_category_Fashion',\n",
    " 'main_category_Film & Video',\n",
    " 'main_category_Food',\n",
    " 'main_category_Games',\n",
    " 'main_category_Journalism',\n",
    " 'main_category_Music',\n",
    " 'main_category_Photography',\n",
    " 'main_category_Publishing',\n",
    " 'main_category_Technology',\n",
    " 'main_category_Theater',\n",
    " 'country_CA',\n",
    " 'country_GB',\n",
    " 'country_OTHER',\n",
    " 'country_US']]\n",
    "\n",
    "scaler = MinMaxScaler()\n",
    "Xn[['usd_goal_real']] = scaler.fit_transform(Xn[['usd_goal_real']])\n",
    "Xn[['days']] = scaler.fit_transform(Xn[['days']])\n",
    "\n",
    "y = ks['label'].to_list()\n",
    "\n",
    "Xt_train, Xt_test, y_train, y_test = train_test_split(\n",
    "        Xt, y, test_size=0.2, random_state=42)\n",
    "\n",
    "Xn_train, Xn_test, y_train, y_test = train_test_split(\n",
    "        Xn, y, test_size=0.2, random_state=42)"
   ]
  },
  {
   "cell_type": "code",
   "execution_count": 4,
   "metadata": {},
   "outputs": [],
   "source": [
    "#LOAD EMBEDDING\n",
    "embeddings_index = {}\n",
    "f = open('../input/kickstarter-word2vec-embedding-file/ks_embedding.txt')\n",
    "for line in f:\n",
    "    values = line.split()\n",
    "    word = values[0]\n",
    "    coefs = np.asarray(values[1:], dtype='float32')\n",
    "    embeddings_index[word] = coefs\n",
    "f.close()\n",
    "\n",
    "word_index = tokenizer.word_index\n",
    "\n",
    "embedding_matrix = np.zeros((len(word_index) + 1, 128))\n",
    "for word, i in word_index.items():\n",
    "    if i > len(word_index) + 1:\n",
    "        continue\n",
    "    embedding_vector = embeddings_index.get(word)\n",
    "    if embedding_vector is not None:\n",
    "        embedding_matrix[i] = embedding_vector"
   ]
  },
  {
   "cell_type": "code",
   "execution_count": 5,
   "metadata": {},
   "outputs": [
    {
     "name": "stderr",
     "output_type": "stream",
     "text": [
      "/opt/conda/lib/python3.6/site-packages/tensorflow_core/python/framework/indexed_slices.py:433: UserWarning: Converting sparse IndexedSlices to a dense Tensor of unknown shape. This may consume a large amount of memory.\n",
      "  \"Converting sparse IndexedSlices to a dense Tensor of unknown shape. \"\n"
     ]
    },
    {
     "name": "stdout",
     "output_type": "stream",
     "text": [
      "Train on 297840 samples, validate on 74460 samples\n",
      "Epoch 1/1000\n",
      "297840/297840 [==============================] - 1701s 6ms/step - loss: 0.5631 - accuracy: 0.6980 - val_loss: 0.5498 - val_accuracy: 0.7072\n",
      "Epoch 2/1000\n",
      "297840/297840 [==============================] - 1716s 6ms/step - loss: 0.4199 - accuracy: 0.7997 - val_loss: 0.6077 - val_accuracy: 0.6873\n",
      "Epoch 00002: early stopping\n"
     ]
    }
   ],
   "source": [
    "#PREPARE MODEL\n",
    "input_1 = Input(shape=(Xt.shape[1],))\n",
    "input_2 = Input(shape=(Xn.shape[1],))\n",
    "\n",
    "embedding_layer = Embedding(len(word_index) + 1, 128, weights=[embedding_matrix])(input_1)\n",
    "lstm_layer = LSTM(128, return_sequences=True, dropout=0.1, recurrent_dropout=0.1)(embedding_layer)\n",
    "globalmaxpool_layer = GlobalMaxPool1D()(lstm_layer)\n",
    "\n",
    "dense_layer_1 = Dense(32, activation='relu')(input_2)\n",
    "dropout_layer_1 = Dropout(0.1)(dense_layer_1)\n",
    "dense_layer_2 = Dense(32, activation='relu')(dropout_layer_1)\n",
    "dropout_layer_2 = Dropout(0.1)(dense_layer_2)\n",
    "\n",
    "concat_layer = Concatenate()([globalmaxpool_layer, dropout_layer_2])\n",
    "dense_layer_3 = Dense(64, activation='relu')(concat_layer)\n",
    "dropout_layer_3 = Dropout(0.1)(dense_layer_3)\n",
    "\n",
    "output = Dense(1, activation='sigmoid')(dense_layer_3)\n",
    "\n",
    "model = Model(inputs=[input_1, input_2], outputs=output)\n",
    "model.compile(loss='binary_crossentropy',\n",
    "              optimizer='adam',metrics=['accuracy'])\n",
    "\n",
    "#TRAIN AND TEST\n",
    "es = EarlyStopping(monitor='val_loss', mode='min', verbose=1)\n",
    "\n",
    "history = model.fit([Xt_train, Xn_train], y_train,\n",
    "                    epochs=1000, batch_size=64, verbose=1,\n",
    "                    validation_data=([Xt_test, Xn_test], y_test),\n",
    "                    callbacks=[es])"
   ]
  },
  {
   "cell_type": "code",
   "execution_count": 6,
   "metadata": {},
   "outputs": [
    {
     "name": "stdout",
     "output_type": "stream",
     "text": [
      "AUC: 0.7194982385577512\n"
     ]
    },
    {
     "data": {
      "image/png": "[encoded data removed]",
      "text/plain": [
       "<Figure size 432x288 with 1 Axes>"
      ]
     },
     "metadata": {
      "needs_background": "light"
     },
     "output_type": "display_data"
    }
   ],
   "source": [
    "#PLOT\n",
    "y_pred = model.predict([Xt_test, Xn_test])\n",
    "fpr, tpr, thresholds = metrics.roc_curve(y_test, y_pred, pos_label=1)\n",
    "\n",
    "auc = np.trapz(tpr,fpr)\n",
    "print('AUC:', auc)  \n",
    "plt.figure()\n",
    "plt.xlabel('False Positive Rate')\n",
    "plt.ylabel('True Positive Rate')\n",
    "plt.title('ROC Curve: AUC = {0:0.2f}'.format(auc))\n",
    "plt.plot(fpr,tpr)\n",
    "plt.show()"
   ]
  },
  {
   "cell_type": "code",
   "execution_count": 7,
   "metadata": {},
   "outputs": [
    {
     "data": {
      "text/plain": [
       "0.6873086220789686"
      ]
     },
     "execution_count": 7,
     "metadata": {},
     "output_type": "execute_result"
    }
   ],
   "source": [
    "#ACCURACY\n",
    "y_pred1 = y_pred > 0.5\n",
    "metrics.accuracy_score(y_pred1, y_test)"
   ]
  },
  {
   "cell_type": "code",
   "execution_count": 8,
   "metadata": {},
   "outputs": [
    {
     "data": {
      "text/plain": [
       "array([[38376, 13904],\n",
       "       [ 9379, 12801]])"
      ]
     },
     "execution_count": 8,
     "metadata": {},
     "output_type": "execute_result"
    }
   ],
   "source": [
    "#CONFUSION MATRIX\n",
    "metrics.confusion_matrix(y_pred1, y_test)"
   ]
  }
 ],
 "metadata": {
  "kernelspec": {
   "display_name": "Python 3",
   "language": "python",
   "name": "python3"
  },
  "language_info": {
   "codemirror_mode": {
    "name": "ipython",
    "version": 3
   },
   "file_extension": ".py",
   "mimetype": "text/x-python",
   "name": "python",
   "nbconvert_exporter": "python",
   "pygments_lexer": "ipython3",
   "version": "3.6.6"
  }
 },
 "nbformat": 4,
 "nbformat_minor": 4
}
